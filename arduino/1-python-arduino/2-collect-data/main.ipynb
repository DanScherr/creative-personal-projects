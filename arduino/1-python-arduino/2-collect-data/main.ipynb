{
 "cells": [
  {
   "attachments": {},
   "cell_type": "markdown",
   "metadata": {},
   "source": [
    "- # Integração Arduino com Python\n",
    "***"
   ]
  },
  {
   "attachments": {},
   "cell_type": "markdown",
   "metadata": {},
   "source": [
    "- #### Add from Arduino import Arduino into your python script to communicate with your Arduino."
   ]
  },
  {
   "cell_type": "code",
   "execution_count": 3,
   "metadata": {},
   "outputs": [],
   "source": [
    "from Arduino import Arduino\n",
    "import time\n",
    "import json\n",
    "import requests\n",
    "from datetime import datetime"
   ]
  },
  {
   "attachments": {},
   "cell_type": "markdown",
   "metadata": {},
   "source": [
    "***\n",
    "- ## Definindo variáveis"
   ]
  },
  {
   "cell_type": "code",
   "execution_count": 4,
   "metadata": {},
   "outputs": [],
   "source": [
    "green_led, red_led = 13, 7\n",
    "detector_pin = 3"
   ]
  },
  {
   "attachments": {},
   "cell_type": "markdown",
   "metadata": {},
   "source": [
    "***\n",
    "- ## void setup()"
   ]
  },
  {
   "cell_type": "code",
   "execution_count": 5,
   "metadata": {},
   "outputs": [
    {
     "name": "stdout",
     "output_type": "stream",
     "text": [
      "You need to update the version of the Arduino-Python3 library running on your Arduino.\n",
      "The Arduino sketch is version\n",
      "The Python installation is V0.6\n",
      "Flash the prototype sketch again.\n"
     ]
    }
   ],
   "source": [
    "board = Arduino(\"9600\", port=\"/dev/ttyACM1\") # plugged in via USB, serial com at rate 9600\n",
    "\n",
    "board.pinMode(detector_pin, \"INPUT\") # Configures DETECTOR pin as input\n",
    "board.pinMode(green_led, \"OUTPUT\") # Configures LED pin as output\n",
    "board.pinMode(red_led, \"OUTPUT\") # Configures LED pin as output"
   ]
  },
  {
   "attachments": {},
   "cell_type": "markdown",
   "metadata": {},
   "source": [
    "***\n",
    "\n",
    "- ## void loop()"
   ]
  },
  {
   "cell_type": "code",
   "execution_count": 6,
   "metadata": {},
   "outputs": [],
   "source": [
    "URL = 'http://127.0.0.1:5000/'"
   ]
  },
  {
   "cell_type": "code",
   "execution_count": 10,
   "metadata": {},
   "outputs": [
    {
     "name": "stdout",
     "output_type": "stream",
     "text": [
      "<Response [200]>\n",
      "<Response [200]>\n",
      "<Response [200]>\n",
      "<Response [200]>\n",
      "<Response [200]>\n",
      "<Response [200]>\n",
      "<Response [200]>\n",
      "<Response [200]>\n",
      "<Response [200]>\n",
      "<Response [200]>\n"
     ]
    },
    {
     "ename": "KeyboardInterrupt",
     "evalue": "",
     "output_type": "error",
     "traceback": [
      "\u001b[0;31m---------------------------------------------------------------------------\u001b[0m",
      "\u001b[0;31mKeyboardInterrupt\u001b[0m                         Traceback (most recent call last)",
      "\u001b[0;32m/tmp/ipykernel_205637/1024256531.py\u001b[0m in \u001b[0;36m<module>\u001b[0;34m\u001b[0m\n\u001b[1;32m     12\u001b[0m         \u001b[0mpost\u001b[0m \u001b[0;34m=\u001b[0m \u001b[0mrequests\u001b[0m\u001b[0;34m.\u001b[0m\u001b[0mrequest\u001b[0m\u001b[0;34m(\u001b[0m\u001b[0;34m'POST'\u001b[0m\u001b[0;34m,\u001b[0m \u001b[0mURL\u001b[0m \u001b[0;34m+\u001b[0m \u001b[0;34m'/presence'\u001b[0m\u001b[0;34m,\u001b[0m \u001b[0mjson\u001b[0m\u001b[0;34m=\u001b[0m\u001b[0mbody_presence\u001b[0m\u001b[0;34m)\u001b[0m\u001b[0;34m\u001b[0m\u001b[0m\n\u001b[1;32m     13\u001b[0m         \u001b[0mprint\u001b[0m\u001b[0;34m(\u001b[0m\u001b[0mpost\u001b[0m\u001b[0;34m)\u001b[0m\u001b[0;34m\u001b[0m\u001b[0m\n\u001b[0;32m---> 14\u001b[0;31m         \u001b[0mtime\u001b[0m\u001b[0;34m.\u001b[0m\u001b[0msleep\u001b[0m\u001b[0;34m(\u001b[0m\u001b[0;36m2\u001b[0m\u001b[0;34m)\u001b[0m\u001b[0;34m\u001b[0m\u001b[0m\n\u001b[0m\u001b[1;32m     15\u001b[0m \u001b[0;34m\u001b[0m\u001b[0m\n\u001b[1;32m     16\u001b[0m     \u001b[0;32melse\u001b[0m\u001b[0;34m:\u001b[0m\u001b[0;34m\u001b[0m\u001b[0m\n",
      "\u001b[0;31mKeyboardInterrupt\u001b[0m: "
     ]
    }
   ],
   "source": [
    "while True:\n",
    "\n",
    "    if (board.digitalRead(detector_pin)):\n",
    "        board.digitalWrite(green_led, \"LOW\")\n",
    "        board.digitalWrite(red_led, \"HIGH\")\n",
    "\n",
    "        body_presence = {\n",
    "            \"date_time_sent\": str(datetime.today()),\n",
    "            \"sensor_id\": \"AUPS1\",\n",
    "            \"detection\": 1\n",
    "        }\n",
    "        post = requests.request('POST', URL + '/presence', json=body_presence)\n",
    "        print(post)\n",
    "        time.sleep(2)\n",
    "\n",
    "    else:\n",
    "        board.digitalWrite(red_led, \"LOW\")\n",
    "        board.digitalWrite(green_led, \"HIGH\")\n",
    "        body_presence = {\n",
    "            \"date_time_sent\": str(datetime.today()),\n",
    "            \"sensor_id\": \"AUPS1\",\n",
    "            \"detection\": 0\n",
    "        }\n",
    "        post = requests.request('POST', URL + '/presence', json=body_presence)\n",
    "        print(post)\n",
    "        time.sleep(2)\n"
   ]
  },
  {
   "cell_type": "code",
   "execution_count": 11,
   "metadata": {},
   "outputs": [
    {
     "data": {
      "text/plain": [
       "<Response [200]>"
      ]
     },
     "execution_count": 11,
     "metadata": {},
     "output_type": "execute_result"
    }
   ],
   "source": [
    "delete_data_from_table = requests.request('DELETE', URL + '/presences')\n",
    "delete_data_from_table"
   ]
  }
 ],
 "metadata": {
  "kernelspec": {
   "display_name": "ambvir",
   "language": "python",
   "name": "python3"
  },
  "language_info": {
   "codemirror_mode": {
    "name": "ipython",
    "version": 3
   },
   "file_extension": ".py",
   "mimetype": "text/x-python",
   "name": "python",
   "nbconvert_exporter": "python",
   "pygments_lexer": "ipython3",
   "version": "3.7.0"
  },
  "orig_nbformat": 4,
  "vscode": {
   "interpreter": {
    "hash": "91d69681ce62c4ddb702482ad7bd41e24b54a36a65eae0c55b3ab9c0a9359ca2"
   }
  }
 },
 "nbformat": 4,
 "nbformat_minor": 2
}
